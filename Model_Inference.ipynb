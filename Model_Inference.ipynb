{
  "cells": [
    {
      "cell_type": "code",
      "execution_count": 15,
      "metadata": {
        "colab": {
          "base_uri": "https://localhost:8080/"
        },
        "id": "hWQ6h2TSUxXr",
        "outputId": "e94474ff-4dda-4637-c076-2f2aad8f8bc2"
      },
      "outputs": [],
      "source": [
        "# Downgrade version of TensorFlow and tf-keras\n",
        "\n",
        "# !pip install -q --upgrade \"tensorflow<2.16\" \"tf-keras<2.16\""
      ]
    },
    {
      "cell_type": "code",
      "execution_count": 16,
      "metadata": {
        "id": "VJWivBAkG1KP"
      },
      "outputs": [],
      "source": [
        "#import libraries\n",
        "import pandas as pd\n",
        "import re\n",
        "import tensorflow as tf\n",
        "from nltk.corpus import stopwords\n",
        "from nltk.tokenize import word_tokenize\n",
        "from tensorflow.keras.preprocessing.text import Tokenizer\n",
        "from tensorflow.keras.preprocessing.sequence import pad_sequences\n",
        "from tensorflow.keras.models import load_model\n",
        "import nltk\n",
        "from tensorflow_hub.keras_layer import KerasLayer"
      ]
    },
    {
      "cell_type": "code",
      "execution_count": 17,
      "metadata": {
        "id": "PS_0p5rgG7hE"
      },
      "outputs": [],
      "source": [
        "#load model\n",
        "model = load_model('sentiment_lstm_model.h5', custom_objects={'KerasLayer': KerasLayer})"
      ]
    },
    {
      "cell_type": "code",
      "execution_count": 18,
      "metadata": {
        "colab": {
          "base_uri": "https://localhost:8080/"
        },
        "id": "7toDTO_QOUlB",
        "outputId": "649d6fd3-97b3-4c9c-ebce-42aac28530a1"
      },
      "outputs": [
        {
          "name": "stderr",
          "output_type": "stream",
          "text": [
            "[nltk_data] Downloading package punkt_tab to\n",
            "[nltk_data]     C:\\Users\\halod\\AppData\\Roaming\\nltk_data...\n",
            "[nltk_data]   Package punkt_tab is already up-to-date!\n",
            "[nltk_data] Downloading package stopwords to\n",
            "[nltk_data]     C:\\Users\\halod\\AppData\\Roaming\\nltk_data...\n",
            "[nltk_data]   Package stopwords is already up-to-date!\n",
            "[nltk_data] Downloading package punkt to\n",
            "[nltk_data]     C:\\Users\\halod\\AppData\\Roaming\\nltk_data...\n",
            "[nltk_data]   Package punkt is already up-to-date!\n"
          ]
        }
      ],
      "source": [
        "# Download the stopwords resource\n",
        "nltk.download('punkt_tab')\n",
        "nltk.download('stopwords')\n",
        "nltk.download('punkt')\n",
        "\n",
        "# Load the trained model\n",
        "#model = load_model('model_lstm_2.keras')\n",
        "\n",
        "# Load stopwords\n",
        "stop_words_en = stopwords.words(\"english\")\n",
        "new_stop_words = [\"didnt\", 'wont', 'doesnt', 'dear', 'ive', 'really', 'youre', 'couldnt', 'cant']\n",
        "stop_words_en = stop_words_en + new_stop_words\n",
        "stop_words_en = list(set(stop_words_en))\n",
        "\n",
        "#menggunakan popular lemmatizer WordNet lemmatizer.\n",
        "from nltk.stem import WordNetLemmatizer\n",
        "\n",
        "lemmatizer = WordNetLemmatizer()\n",
        "\n",
        "# Text preprocessing function\n",
        "def text_preprocessing(text):\n",
        "    # Case folding\n",
        "    text = text.lower()\n",
        "\n",
        "    # Non-letter removal (such as emoticons, symbols, etc)\n",
        "    text = re.sub(r'[^a-zA-Z0-9\\s]', '', text)\n",
        "\n",
        "    # Tokenization\n",
        "    tokens = word_tokenize(text)\n",
        "\n",
        "    # Stopwords removal\n",
        "    tokens = [word for word in tokens if word not in stop_words_en]\n",
        "\n",
        "    # Lemmatization\n",
        "    tokens = [lemmatizer.lemmatize(word) for word in tokens]\n",
        "\n",
        "    # Combining Tokens\n",
        "    text = ' '.join(tokens)\n",
        "\n",
        "    return text"
      ]
    },
    {
      "cell_type": "code",
      "execution_count": 19,
      "metadata": {
        "colab": {
          "base_uri": "https://localhost:8080/"
        },
        "id": "S7Shm4jjO3mg",
        "outputId": "ae934c06-e9b7-41a8-e521-2fe38d68c83e"
      },
      "outputs": [
        {
          "name": "stderr",
          "output_type": "stream",
          "text": [
            "[nltk_data] Downloading package punkt_tab to\n",
            "[nltk_data]     C:\\Users\\halod\\AppData\\Roaming\\nltk_data...\n",
            "[nltk_data]   Package punkt_tab is already up-to-date!\n",
            "[nltk_data] Downloading package wordnet to\n",
            "[nltk_data]     C:\\Users\\halod\\AppData\\Roaming\\nltk_data...\n",
            "[nltk_data]   Package wordnet is already up-to-date!\n"
          ]
        },
        {
          "data": {
            "text/plain": [
              "True"
            ]
          },
          "execution_count": 19,
          "metadata": {},
          "output_type": "execute_result"
        }
      ],
      "source": [
        "#download nltk\n",
        "nltk.download('punkt_tab')\n",
        "nltk.download('wordnet')"
      ]
    },
    {
      "cell_type": "code",
      "execution_count": 20,
      "metadata": {
        "id": "qsYccD4qRZSe"
      },
      "outputs": [],
      "source": [
        "#input review untuk mengetahui positif atau negatif\n",
        "data = text_preprocessing(\"please fix the bug\")"
      ]
    },
    {
      "cell_type": "code",
      "execution_count": 21,
      "metadata": {
        "colab": {
          "base_uri": "https://localhost:8080/"
        },
        "id": "7cGjKvpJRdog",
        "outputId": "eea75c65-d305-4627-e073-f8ba8b21c7db"
      },
      "outputs": [
        {
          "name": "stdout",
          "output_type": "stream",
          "text": [
            "1/1 [==============================] - 1s 708ms/step\n"
          ]
        },
        {
          "data": {
            "text/plain": [
              "'negative sentiment review'"
            ]
          },
          "execution_count": 21,
          "metadata": {},
          "output_type": "execute_result"
        }
      ],
      "source": [
        "#cek \n",
        "result = model.predict([[data]])\n",
        "\n",
        "#membuat looping untuk mengetahui termasuk sentimen positive atau negatif\n",
        "print_result=\"\"\n",
        "if result > 0.5:\n",
        "      print_result= \"positive sentiment review\"\n",
        "else:\n",
        "    print_result = \"negative sentiment review\"\n",
        "\n",
        "print_result"
      ]
    }
  ],
  "metadata": {
    "colab": {
      "provenance": []
    },
    "kernelspec": {
      "display_name": "base",
      "language": "python",
      "name": "python3"
    },
    "language_info": {
      "codemirror_mode": {
        "name": "ipython",
        "version": 3
      },
      "file_extension": ".py",
      "mimetype": "text/x-python",
      "name": "python",
      "nbconvert_exporter": "python",
      "pygments_lexer": "ipython3",
      "version": "3.9.20"
    }
  },
  "nbformat": 4,
  "nbformat_minor": 0
}
